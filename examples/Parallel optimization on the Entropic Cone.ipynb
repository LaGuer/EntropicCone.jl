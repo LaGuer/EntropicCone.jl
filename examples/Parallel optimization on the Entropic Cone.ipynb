{
 "cells": [
  {
   "cell_type": "markdown",
   "metadata": {},
   "source": [
    "This notebook contains the code to reproduce the results of the paper:\n",
    "\n",
    "[B. Legat](https://perso.uclouvain.be/benoit.legat), [R. M. Jungers](https://perso.uclouvain.be/raphael.jungers/content/home). [**Parallel optimization on the Entropic Cone**](http://sites.uclouvain.be/sitb2016/Proceedings_SITB2016_preliminary.pdf). [*37rd Symposium on Information Theory in the Benelux*](http://sites.uclouvain.be/sitb2016), 2016."
   ]
  },
  {
   "cell_type": "code",
   "execution_count": 1,
   "metadata": {},
   "outputs": [
    {
     "name": "stderr",
     "output_type": "stream",
     "text": [
      "\u001b[1m\u001b[36mINFO: \u001b[39m\u001b[22m\u001b[36mRecompiling stale cache file /home/blegat/.julia/lib/v0.6/Polyhedra.ji for module Polyhedra.\n",
      "\u001b[39m"
     ]
    }
   ],
   "source": [
    "using EntropicCone"
   ]
  },
  {
   "cell_type": "markdown",
   "metadata": {},
   "source": [
    "Select a solver installed. [`GLPK`](https://github.com/JuliaOpt/GLPK.jl) is not the fastest but it is free and reliable, [`Gurobi`](https://github.com/JuliaOpt/Gurobi.jl) is fast and reliable but it is commercial (although academic licenses are available). Many other solvers are available, see [here](http://www.juliaopt.org/) for a list."
   ]
  },
  {
   "cell_type": "code",
   "execution_count": 2,
   "metadata": {
    "scrolled": true
   },
   "outputs": [
    {
     "data": {
      "text/plain": [
       "GLPKMathProgInterface.GLPKInterfaceLP.GLPKSolverLP(false, :Simplex, Any[])"
      ]
     },
     "execution_count": 2,
     "metadata": {},
     "output_type": "execute_result"
    }
   ],
   "source": [
    "using GLPKMathProgInterface\n",
    "solver = GLPKSolverLP()"
   ]
  },
  {
   "cell_type": "code",
   "execution_count": 3,
   "metadata": {},
   "outputs": [
    {
     "data": {
      "text/plain": [
       " 1111:0\n",
       " 0111:0 1011:0\u001b[34m 1101:-1\u001b[39m\u001b[34m 1110:-1\u001b[39m\n",
       "\u001b[34m 0011:-1\u001b[39m\u001b[34m 0101:1\u001b[39m\u001b[34m 0110:1\u001b[39m\u001b[34m 1001:1\u001b[39m\u001b[34m 1010:1\u001b[39m\u001b[34m 1100:1\u001b[39m\n",
       " 0001:0 0010:0\u001b[34m 0100:-1\u001b[39m\u001b[34m 1000:-1\u001b[39m"
      ]
     },
     "execution_count": 3,
     "metadata": {},
     "output_type": "execute_result"
    }
   ],
   "source": [
    "c = ingleton(4,1,2,3,4)"
   ]
  },
  {
   "cell_type": "code",
   "execution_count": 4,
   "metadata": {},
   "outputs": [
    {
     "data": {
      "text/plain": [
       "\u001b[34m 1111:1\u001b[39m\n",
       " 0111:0 1011:0 1101:0 1110:0\n",
       " 0011:0 0101:0 0110:0 1001:0 1010:0 1100:0\n",
       " 0001:0 0010:0 0100:0 1000:0"
      ]
     },
     "execution_count": 4,
     "metadata": {},
     "output_type": "execute_result"
    }
   ],
   "source": [
    "cut = nonnegative(4, 1234)"
   ]
  },
  {
   "cell_type": "code",
   "execution_count": 5,
   "metadata": {},
   "outputs": [
    {
     "name": "stdout",
     "output_type": "stream",
     "text": [
      " 75.088161 seconds (666.29 M allocations: 34.901 GiB, 15.84% gc time)\n",
      "104.788968 seconds (921.98 M allocations: 48.518 GiB, 14.91% gc time)\n"
     ]
    }
   ],
   "source": [
    "using CutPruners\n",
    "n = 4\n",
    "h = polymatroidcone(Float64, 4)\n",
    "newcut = :AddImmediately\n",
    "(sp, allnodes) = @time stochasticprogram(c, h, solver, 5, cut, newcut, AvgCutPruningAlgo.([-1,-1,-1,-1,-1,-1,-1]));"
   ]
  },
  {
   "cell_type": "code",
   "execution_count": 6,
   "metadata": {},
   "outputs": [
    {
     "data": {
      "text/plain": [
       "4"
      ]
     },
     "execution_count": 6,
     "metadata": {},
     "output_type": "execute_result"
    }
   ],
   "source": [
    "length(allnodes)"
   ]
  },
  {
   "cell_type": "code",
   "execution_count": 7,
   "metadata": {},
   "outputs": [
    {
     "ename": "LoadError",
     "evalue": "\u001b[91mDimensionMismatch(\"\")\u001b[39m",
     "output_type": "error",
     "traceback": [
      "\u001b[91mDimensionMismatch(\"\")\u001b[39m",
      "",
      "Stacktrace:",
      " [1] \u001b[1m#spmatmul#56\u001b[22m\u001b[22m\u001b[1m(\u001b[22m\u001b[22m::Symbol, ::Function, ::SparseMatrixCSC{Float64,Int64}, ::SparseMatrixCSC{Float64,Int64}\u001b[1m)\u001b[22m\u001b[22m at \u001b[1m./sparse/linalg.jl:143\u001b[22m\u001b[22m",
      " [2] \u001b[1m*\u001b[22m\u001b[22m\u001b[1m(\u001b[22m\u001b[22m::SparseMatrixCSC{Float64,Int64}, ::SparseMatrixCSC{Float64,Int64}\u001b[1m)\u001b[22m\u001b[22m at \u001b[1m./sparse/linalg.jl:125\u001b[22m\u001b[22m",
      " [3] \u001b[1m(::StructDualDynProg.#f#42{StructDualDynProg.NLDS{Float64}})\u001b[22m\u001b[22m\u001b[1m(\u001b[22m\u001b[22m::Int64\u001b[1m)\u001b[22m\u001b[22m at \u001b[1m/home/blegat/.julia/v0.6/StructDualDynProg/src/nlds.jl:257\u001b[22m\u001b[22m",
      " [4] \u001b[1m_collect\u001b[22m\u001b[22m\u001b[1m(\u001b[22m\u001b[22m::UnitRange{Int64}, ::Base.Generator{UnitRange{Int64},StructDualDynProg.##39#43{StructDualDynProg.#f#42{StructDualDynProg.NLDS{Float64}}}}, ::Base.EltypeUnknown, ::Base.HasShape\u001b[1m)\u001b[22m\u001b[22m at \u001b[1m./array.jl:488\u001b[22m\u001b[22m",
      " [5] \u001b[1mgetfeasibilitycuts\u001b[22m\u001b[22m\u001b[1m(\u001b[22m\u001b[22m::StructDualDynProg.NLDS{Float64}\u001b[1m)\u001b[22m\u001b[22m at \u001b[1m/home/blegat/.julia/v0.6/StructDualDynProg/src/nlds.jl:261\u001b[22m\u001b[22m",
      " [6] \u001b[1mcomputecuts!\u001b[22m\u001b[22m\u001b[1m(\u001b[22m\u001b[22m::StructDualDynProg.NLDS{Float64}\u001b[1m)\u001b[22m\u001b[22m at \u001b[1m/home/blegat/.julia/v0.6/StructDualDynProg/src/nlds.jl:442\u001b[22m\u001b[22m",
      " [7] \u001b[1mload!\u001b[22m\u001b[22m\u001b[1m(\u001b[22m\u001b[22m::StructDualDynProg.NLDS{Float64}\u001b[1m)\u001b[22m\u001b[22m at \u001b[1m/home/blegat/.julia/v0.6/StructDualDynProg/src/nlds.jl:485\u001b[22m\u001b[22m",
      " [8] \u001b[1msolve!\u001b[22m\u001b[22m\u001b[1m(\u001b[22m\u001b[22m::StructDualDynProg.NLDS{Float64}\u001b[1m)\u001b[22m\u001b[22m at \u001b[1m/home/blegat/.julia/v0.6/StructDualDynProg/src/nlds.jl:535\u001b[22m\u001b[22m",
      " [9] \u001b[1mgetsolution\u001b[22m\u001b[22m\u001b[1m(\u001b[22m\u001b[22m::StructDualDynProg.NLDS{Float64}\u001b[1m)\u001b[22m\u001b[22m at \u001b[1m/home/blegat/.julia/v0.6/StructDualDynProg/src/nlds.jl:621\u001b[22m\u001b[22m",
      " [10] \u001b[1mmacro expansion\u001b[22m\u001b[22m at \u001b[1m./util.jl:378\u001b[22m\u001b[22m [inlined]",
      " [11] \u001b[1mmacro expansion\u001b[22m\u001b[22m at \u001b[1m/home/blegat/.julia/v0.6/StructDualDynProg/src/stats.jl:57\u001b[22m\u001b[22m [inlined]",
      " [12] \u001b[1m#forwardpass!#25\u001b[22m\u001b[22m\u001b[1m(\u001b[22m\u001b[22m::Float64, ::Bool, ::Bool, ::Bool, ::Function, ::StructDualDynProg.StochasticProgram{Float64,StructDualDynProg.Transition{Float64}}, ::Int64, ::Int64, ::Int64, ::StructDualDynProg.ProbaPathSampler\u001b[1m)\u001b[22m\u001b[22m at \u001b[1m/home/blegat/.julia/v0.6/StructDualDynProg/src/sddp.jl:49\u001b[22m\u001b[22m",
      " [13] \u001b[1m(::StructDualDynProg.#kw##forwardpass!)\u001b[22m\u001b[22m\u001b[1m(\u001b[22m\u001b[22m::Array{Any,1}, ::StructDualDynProg.#forwardpass!, ::StructDualDynProg.StochasticProgram{Float64,StructDualDynProg.Transition{Float64}}, ::Int64, ::Int64, ::Int64, ::StructDualDynProg.ProbaPathSampler\u001b[1m)\u001b[22m\u001b[22m at \u001b[1m./<missing>:0\u001b[22m\u001b[22m",
      " [14] \u001b[1m#iteration!#27\u001b[22m\u001b[22m\u001b[1m(\u001b[22m\u001b[22m::Float64, ::Bool, ::Bool, ::Bool, ::Bool, ::Function, ::StructDualDynProg.StochasticProgram{Float64,StructDualDynProg.Transition{Float64}}, ::Int64, ::Int64, ::Int64, ::StructDualDynProg.ProbaPathSampler\u001b[1m)\u001b[22m\u001b[22m at \u001b[1m/home/blegat/.julia/v0.6/StructDualDynProg/src/sddp.jl:136\u001b[22m\u001b[22m",
      " [15] \u001b[1m(::StructDualDynProg.#kw##iteration!)\u001b[22m\u001b[22m\u001b[1m(\u001b[22m\u001b[22m::Array{Any,1}, ::StructDualDynProg.#iteration!, ::StructDualDynProg.StochasticProgram{Float64,StructDualDynProg.Transition{Float64}}, ::Int64, ::Int64, ::Int64, ::StructDualDynProg.ProbaPathSampler\u001b[1m)\u001b[22m\u001b[22m at \u001b[1m./<missing>:0\u001b[22m\u001b[22m",
      " [16] \u001b[1mmacro expansion\u001b[22m\u001b[22m at \u001b[1m./util.jl:378\u001b[22m\u001b[22m [inlined]",
      " [17] \u001b[1mmacro expansion\u001b[22m\u001b[22m at \u001b[1m/home/blegat/.julia/v0.6/StructDualDynProg/src/stats.jl:57\u001b[22m\u001b[22m [inlined]",
      " [18] \u001b[1m#SDDP#28\u001b[22m\u001b[22m\u001b[1m(\u001b[22m\u001b[22m::Int64, ::StructDualDynProg.Pereira, ::Int64, ::StructDualDynProg.ProbaPathSampler, ::Float64, ::Bool, ::Bool, ::Bool, ::Bool, ::StructDualDynProg.#SDDP, ::StructDualDynProg.StochasticProgram{Float64,StructDualDynProg.Transition{Float64}}, ::Int64\u001b[1m)\u001b[22m\u001b[22m at \u001b[1m/home/blegat/.julia/v0.6/StructDualDynProg/src/sddp.jl:163\u001b[22m\u001b[22m",
      " [19] \u001b[1mSDDP\u001b[22m\u001b[22m\u001b[1m(\u001b[22m\u001b[22m::StructDualDynProg.StochasticProgram{Float64,StructDualDynProg.Transition{Float64}}, ::Int64\u001b[1m)\u001b[22m\u001b[22m at \u001b[1m/home/blegat/.julia/v0.6/StructDualDynProg/src/sddp.jl:157\u001b[22m\u001b[22m",
      " [20] \u001b[1mexecute_request\u001b[22m\u001b[22m\u001b[1m(\u001b[22m\u001b[22m::ZMQ.Socket, ::IJulia.Msg\u001b[1m)\u001b[22m\u001b[22m at \u001b[1m/home/blegat/.julia/v0.6/IJulia/src/execute_request.jl:158\u001b[22m\u001b[22m",
      " [21] \u001b[1m(::Compat.#inner#17{Array{Any,1},IJulia.#execute_request,Tuple{ZMQ.Socket,IJulia.Msg}})\u001b[22m\u001b[22m\u001b[1m(\u001b[22m\u001b[22m\u001b[1m)\u001b[22m\u001b[22m at \u001b[1m/home/blegat/.julia/v0.6/Compat/src/Compat.jl:385\u001b[22m\u001b[22m",
      " [22] \u001b[1meventloop\u001b[22m\u001b[22m\u001b[1m(\u001b[22m\u001b[22m::ZMQ.Socket\u001b[1m)\u001b[22m\u001b[22m at \u001b[1m/home/blegat/.julia/v0.6/IJulia/src/eventloop.jl:8\u001b[22m\u001b[22m",
      " [23] \u001b[1m(::IJulia.##14#17)\u001b[22m\u001b[22m\u001b[1m(\u001b[22m\u001b[22m\u001b[1m)\u001b[22m\u001b[22m at \u001b[1m./task.jl:335\u001b[22m\u001b[22m"
     ]
    }
   ],
   "source": [
    "StructDualDynProg.SDDP(sp, 2)"
   ]
  },
  {
   "cell_type": "code",
   "execution_count": null,
   "metadata": {
    "collapsed": true
   },
   "outputs": [],
   "source": [
    "using StructDualDynProg, CutPruners, Polyhedra\n",
    "import MathProgBase.linprog\n",
    "importall EntropicCone\n",
    "export stochasticprogram, appendtoSDDPLattice!, updatemaxncuts!\n",
    "\n",
    "function MathProgBase.linprog(c::DualEntropy, h::EntropyCone, cut::DualEntropy)\n",
    "    cuthrep = HalfSpace(cut.h, 1)\n",
    "    MathProgBase.linprog(c.h, intersect(h.poly, cuthrep))\n",
    "end\n",
    "\n",
    "function getNLDS(c::DualEntropy, W, h, T, linset, solver, newcut::Symbol, pruningalgo::AbstractCutPruningAlgo)\n",
    "    K = [(:NonNeg, collect(setdiff(IntSet(1:size(W, 1)), linset))), (:Zero, collect(linset))]\n",
    "    C = [(:NonNeg, collect(1:size(W, 2)))]\n",
    "    NLDS{Float64}(W, h, T, K, C, c.h, solver, pruningalgo, newcut)\n",
    "end\n",
    "\n",
    "function extractNLDS(c, h::EntropyConeLift, id, idp, solver, newcut, pruningalgo::AbstractCutPruningAlgo)\n",
    "    hr = MixedMatHRep(hrep(h.poly))\n",
    "    idx  = EntropicCone.rangefor(h, id)\n",
    "    idxp = EntropicCone.rangefor(h, idp)\n",
    "    W = hr.A[:,idx]\n",
    "    T = hr.A[:,idxp]\n",
    "    getNLDS(c, W, hr.b, T, hr.linset, solver, newcut, pruningalgo)\n",
    "end\n",
    "\n",
    "function next_perm(arr)\n",
    "    # Find non-increasing suffix\n",
    "    i = length(arr)\n",
    "    while i > 1 && arr[i - 1] > arr[i]\n",
    "        i -= 1\n",
    "    end\n",
    "    if i <= 1\n",
    "        false\n",
    "    else\n",
    "        # Find successor to pivot\n",
    "        j = length(arr)\n",
    "        while arr[j] < arr[i - 1]\n",
    "            j -= 1\n",
    "        end\n",
    "        arr[i - 1], arr[j] = arr[j], arr[i - 1]\n",
    "\n",
    "        # Reverse suffix\n",
    "        arr[i:end] = arr[length(arr):-1:i]\n",
    "        true\n",
    "    end\n",
    "end\n",
    "\n",
    "function addchildren!(sp::StructDualDynProg.StochasticProgram{S}, node::Int, n::Int, old::Bool, oldnodes, newnodes, solver, max_n::Int, newcut::Symbol, pruningalgo::Vector) where S\n",
    "    # the probability does not matter\n",
    "    # no optimality cut needed since only the root has an objective\n",
    "    proba = 0.0\n",
    "    function addchild(J::EntropicCone.EntropyIndex,K::EntropicCone.EntropyIndex,adh::Symbol,T=speye(Int(EntropicCone.ntodim(n))))\n",
    "        if (n,J,K,adh) in keys(oldnodes)\n",
    "            if !old\n",
    "                child = oldnodes[(n,J,K,adh)]\n",
    "                add_scenario_transition!(sp, node, child, proba, T)\n",
    "            end\n",
    "        else\n",
    "            child = getSDDPNode(sp, oldnodes, newnodes, n, J, K, adh, node, solver, max_n, newcut, pruningalgo)\n",
    "            add_scenario_transition!(sp, node, child, proba, T)\n",
    "        end\n",
    "    end\n",
    "\n",
    "    if true\n",
    "        #childT = Vector{AbstractMatrix{S}}()\n",
    "        dn = max_n - n\n",
    "        N = Int(EntropicCone.ntodim(n))\n",
    "        for i in 1:n-1\n",
    "            for j in i+1:min(n, i+dn)\n",
    "                I = set(1:i)\n",
    "                J = set(1:j)\n",
    "                addchild(J,I,:Self)\n",
    "                σ = collect(1:n)\n",
    "                done = [(I,J)]\n",
    "                while next_perm(σ)\n",
    "                    Iperm = EntropicCone.mymap(σ, I, n)\n",
    "                    Jperm = EntropicCone.mymap(σ, J, n)\n",
    "                    if !((Iperm, Jperm) in done)\n",
    "                        σinv = collect(1:n)[σ]\n",
    "                        σi = map(I->EntropicCone.mymap(σinv, I, n), EntropicCone.indset(n))\n",
    "                        push!(done, (Iperm, Jperm))\n",
    "                        # Why transpose ?\n",
    "                        P = sparse(Vector{Int}(σi), 1:N, 1, N, N)'\n",
    "                        addchild(J,I,:Self,P)\n",
    "                    end\n",
    "                end\n",
    "            end\n",
    "        end\n",
    "    else\n",
    "        #childT = nothing\n",
    "        for adh in [:Self, :Inner]\n",
    "            for J in indset(n)\n",
    "                for K in indset(n)\n",
    "                    if J == K ||\n",
    "                        (adh == :Self && !(K ⊆ J)) ||\n",
    "                        #(adh == :Self && !(fullset(n) ⊆ J)) || # Don't do that, Z-Y is not found with max_n = 5 and no inner otherwise\n",
    "                        (adh == :Self && (fullset(n) ⊆ J)) || # Don't do that, Z-Y is not found with max_n = 5 and no inner otherwise\n",
    "                        (adh == :Inner && K ⊆ J) ||\n",
    "                        (adh == :Inner && J ⊆ K) ||\n",
    "                        (adh == :Inner && (K ∩ J) == 0) ||\n",
    "                        (adh == :Inner && !(fullset(n) ⊆ (K ∪ J))) ||\n",
    "                        (adh == :Self && n <= 3) ||\n",
    "                        (adh == :Inner && n <= 4) ||\n",
    "                        adh == :Inner\n",
    "                        continue\n",
    "                    end\n",
    "                    if nadh(n, J, K, adh) <= max_n\n",
    "                        addchild(J,K,adh)\n",
    "                    end\n",
    "                end\n",
    "            end\n",
    "        end\n",
    "    end\n",
    "end\n",
    "\n",
    "function StructDualDynProg.getSDDPNode(sp::StructDualDynProg.StochasticProgram{S}, oldnodes, newnodes, np, Jp, Kp, adhp, parent, solver, max_n, newcut, pruningalgo::Vector) where S\n",
    "    @assert !((np,Jp,Kp,adhp) in keys(oldnodes))\n",
    "    if !((np,Jp,Kp,adhp) in keys(newnodes))\n",
    "        n = EntropicCone.nadh(np, Jp, Kp, adhp)\n",
    "        #h = polymatroidcone(np)\n",
    "        # h is for the parent.\n",
    "        # We do not need the constraint of the parent so we want the full polyhedron with no constraint\n",
    "        Np = Int(EntropicCone.ntodim(np))\n",
    "        fullpoly = polyhedron(hrep(HalfSpace{Np, S, SparseVector{S, Int}}[]))\n",
    "        h = EntropyCone{Np, S}(np, fullpoly)\n",
    "        lift = EntropicCone.adhesivelift(h, Jp, Kp, adhp)\n",
    "        c = EntropicCone.constdualentropy(n, 0)\n",
    "        nlds = extractNLDS(c, lift, 2, 1, solver, newcut, pruningalgo[n])\n",
    "        newnodedata = StructDualDynProg.NodeData(nlds, parent)\n",
    "        newnode = add_scenario_state!(sp, newnodedata)\n",
    "        # Only the root node has a non-zero objective so no need for optimality cuts\n",
    "        StructDualDynProg.setcutgenerator!(sp, newnode, NoOptimalityCutGenerator())\n",
    "        newnodes[(np,Jp,Kp,adhp)] = newnode\n",
    "        addchildren!(sp, newnode, n, false, oldnodes, newnodes, solver, max_n, newcut, pruningalgo)\n",
    "    end\n",
    "    newnodes[(np,Jp,Kp,adhp)]\n",
    "end\n",
    "\n",
    "function fillroot!(sp::StructDualDynProg.StochasticProgram, c::DualEntropy, H::EntropyCone, cut::DualEntropy, newnodes, solver, max_n::Integer, newcut::Symbol, pruningalgo::Vector)\n",
    "    h = MixedMatHRep(hrep(H.poly ∩ HalfSpace(cut.h, 1)))\n",
    "    @assert h.A isa AbstractSparseMatrix\n",
    "    T = spzeros(Float64, size(h.A, 1), 0)\n",
    "    hb = sparsevec(h.b) # FIXME it was done before but not sure it is useful as it the the rhs\n",
    "    nlds = getNLDS(c, h.A, hb, T, h.linset, solver, newcut, AvgCutPruningAlgo(-1))\n",
    "    rootdata = StructDualDynProg.NodeData(nlds, 0)\n",
    "    root = add_scenario_state!(sp, rootdata)\n",
    "    StructDualDynProg.setcutgenerator!(sp, root, NoOptimalityCutGenerator())\n",
    "    newnodes[(H.n,EntropicCone.emptyset(),EntropicCone.emptyset(),:NoAdh)] = root\n",
    "    oldnodes = Dict{Tuple{Int,EntropicCone.EntropyIndex,EntropicCone.EntropyIndex,Symbol},Int}()\n",
    "    addchildren!(sp, root, H.n, false, oldnodes, newnodes, solver, max_n, newcut, pruningalgo)\n",
    "end\n",
    "\n",
    "function StructDualDynProg.stochasticprogram(c::DualEntropy, h::EntropyCone, solver, max_n, cut::DualEntropy, newcut::Symbol, pruningalgo::Vector)\n",
    "    # allnodes[n][J][K]: if K ⊆ J, it is self-adhesivity, otherwise it is inner-adhesivity\n",
    "    allnodes = Dict{Tuple{Int,EntropicCone.EntropyIndex,EntropicCone.EntropyIndex,Symbol},Int}()\n",
    "    sp = StructDualDynProg.StochasticProgram{Float64}()\n",
    "    @time fillroot!(sp, c, h, cut, allnodes, solver, max_n, newcut, pruningalgo)\n",
    "    sp, allnodes\n",
    "end\n",
    "function Base.append!(sp::StructDualDynProg.StochasticProgram, oldnodes, solver, max_n, newcut, pruningalgo::Vector)\n",
    "    newnodes = Dict{Tuple{Int,EntropicCone.EntropyIndex,EntropicCone.EntropyIndex,Symbol},Int}()\n",
    "    for ((n,J,K,adh), node) in oldnodes\n",
    "        addchildren!(sp, node, nadh(n,J,K,adh), true, oldnodes, newnodes, solver, max_n, newcut, pruningalgo)\n",
    "    end\n",
    "    merge!(oldnodes, newnodes)\n",
    "end\n",
    "function updatemaxncuts!(sp::StructDualDynProg.StochasticProgram, allnodes, maxncuts::Vector{Int})\n",
    "    for ((n,J,K,adh), node) in allnodes\n",
    "        StructDualDynProg.updatemaxncuts!(nodedata(sp, node).nlds, maxncuts[nadh(n,J,K,adh)])\n",
    "    end\n",
    "end"
   ]
  },
  {
   "cell_type": "code",
   "execution_count": null,
   "metadata": {
    "collapsed": true
   },
   "outputs": [],
   "source": [
    "(root, allnodes) = stochasticprogram(c, h, solver, 7, cut, newcut, AvgCutPruningAlgo.([-1,-1,-1,-1,-1,-1,-1]))"
   ]
  },
  {
   "cell_type": "code",
   "execution_count": null,
   "metadata": {
    "collapsed": true
   },
   "outputs": [],
   "source": [
    "typeof(sparsevec([1], [2.0]))"
   ]
  },
  {
   "cell_type": "code",
   "execution_count": null,
   "metadata": {
    "collapsed": true
   },
   "outputs": [],
   "source": []
  }
 ],
 "metadata": {
  "kernelspec": {
   "display_name": "Julia 0.6.2",
   "language": "julia",
   "name": "julia-0.6"
  },
  "language_info": {
   "file_extension": ".jl",
   "mimetype": "application/julia",
   "name": "julia",
   "version": "0.6.2"
  }
 },
 "nbformat": 4,
 "nbformat_minor": 2
}
