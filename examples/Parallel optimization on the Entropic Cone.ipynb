{
 "cells": [
  {
   "cell_type": "markdown",
   "metadata": {},
   "source": [
    "This notebook contains the code to reproduce the results of the paper:\n",
    "\n",
    "[B. Legat](https://perso.uclouvain.be/benoit.legat), [R. M. Jungers](https://perso.uclouvain.be/raphael.jungers/content/home). [**Parallel optimization on the Entropic Cone**](http://sites.uclouvain.be/sitb2016/Proceedings_SITB2016_preliminary.pdf). [*37rd Symposium on Information Theory in the Benelux*](http://sites.uclouvain.be/sitb2016), 2016."
   ]
  },
  {
   "cell_type": "code",
   "execution_count": null,
   "metadata": {},
   "outputs": [],
   "source": [
    "using EntropicCone"
   ]
  },
  {
   "cell_type": "markdown",
   "metadata": {},
   "source": [
    "Select a solver installed. [`GLPK`](https://github.com/JuliaOpt/GLPK.jl) is not the fastest but it is free and reliable, [`Gurobi`](https://github.com/JuliaOpt/Gurobi.jl) is fast and reliable but it is commercial (although academic licenses are available). Many other solvers are available, see [here](http://www.juliaopt.org/) for a list."
   ]
  },
  {
   "cell_type": "code",
   "execution_count": null,
   "metadata": {
    "scrolled": true
   },
   "outputs": [],
   "source": [
    "using GLPKMathProgInterface\n",
    "solver = GLPKSolverLP()"
   ]
  },
  {
   "cell_type": "code",
   "execution_count": null,
   "metadata": {},
   "outputs": [],
   "source": [
    "c = ingleton(4,1,2,3,4)"
   ]
  },
  {
   "cell_type": "code",
   "execution_count": null,
   "metadata": {},
   "outputs": [],
   "source": [
    "cut = nonnegative(4, 1234)"
   ]
  },
  {
   "cell_type": "code",
   "execution_count": null,
   "metadata": {},
   "outputs": [],
   "source": [
    "using CutPruners\n",
    "n = 4\n",
    "h = polymatroidcone(Float64, 4)\n",
    "newcut = :AddImmediately\n",
    "(sp, allnodes) = @time stochasticprogram(c, h, solver, 5, cut, newcut, AvgCutPruningAlgo.([-1,-1,-1,-1,-1,-1,-1]));"
   ]
  },
  {
   "cell_type": "code",
   "execution_count": null,
   "metadata": {},
   "outputs": [],
   "source": [
    "length(allnodes)"
   ]
  },
  {
   "cell_type": "code",
   "execution_count": null,
   "metadata": {},
   "outputs": [],
   "source": [
    "StructDualDynProg.SDDP(sp, 2)"
   ]
  },
  {
   "cell_type": "code",
   "execution_count": null,
   "metadata": {},
   "outputs": [],
   "source": [
    "using StructDualDynProg, CutPruners, Polyhedra\n",
    "import MathProgBase.linprog\n",
    "importall EntropicCone\n",
    "export stochasticprogram, appendtoSDDPLattice!, updatemaxncuts!\n",
    "\n",
    "function MathProgBase.linprog(c::DualEntropy, h::EntropyCone, cut::DualEntropy)\n",
    "    cuthrep = HalfSpace(cut.h, 1)\n",
    "    MathProgBase.linprog(c.h, intersect(h.poly, cuthrep))\n",
    "end\n",
    "\n",
    "function getNLDS(c::DualEntropy, W, h, T, linset, solver, newcut::Symbol, pruningalgo::AbstractCutPruningAlgo)\n",
    "    K = [(:NonNeg, collect(setdiff(IntSet(1:size(W, 1)), linset))), (:Zero, collect(linset))]\n",
    "    C = [(:NonNeg, collect(1:size(W, 2)))]\n",
    "    NLDS{Float64}(W, h, T, K, C, c.h, solver, pruningalgo, newcut)\n",
    "end\n",
    "\n",
    "function extractNLDS(c, h::EntropyConeLift, id, idp, solver, newcut, pruningalgo::AbstractCutPruningAlgo)\n",
    "    hr = MixedMatHRep(hrep(h.poly))\n",
    "    idx  = EntropicCone.rangefor(h, id)\n",
    "    idxp = EntropicCone.rangefor(h, idp)\n",
    "    W = hr.A[:,idx]\n",
    "    T = hr.A[:,idxp]\n",
    "    getNLDS(c, W, hr.b, T, hr.linset, solver, newcut, pruningalgo)\n",
    "end\n",
    "\n",
    "function next_perm(arr)\n",
    "    # Find non-increasing suffix\n",
    "    i = length(arr)\n",
    "    while i > 1 && arr[i - 1] > arr[i]\n",
    "        i -= 1\n",
    "    end\n",
    "    if i <= 1\n",
    "        false\n",
    "    else\n",
    "        # Find successor to pivot\n",
    "        j = length(arr)\n",
    "        while arr[j] < arr[i - 1]\n",
    "            j -= 1\n",
    "        end\n",
    "        arr[i - 1], arr[j] = arr[j], arr[i - 1]\n",
    "\n",
    "        # Reverse suffix\n",
    "        arr[i:end] = arr[length(arr):-1:i]\n",
    "        true\n",
    "    end\n",
    "end\n",
    "\n",
    "function addchildren!(sp::StructDualDynProg.StochasticProgram{S}, node::Int, n::Int, old::Bool, oldnodes, newnodes, solver, max_n::Int, newcut::Symbol, pruningalgo::Vector) where S\n",
    "    # the probability does not matter\n",
    "    # no optimality cut needed since only the root has an objective\n",
    "    proba = 0.0\n",
    "    function addchild(J::EntropicCone.EntropyIndex,K::EntropicCone.EntropyIndex,adh::Symbol,T=speye(Int(EntropicCone.ntodim(n))))\n",
    "        if (n,J,K,adh) in keys(oldnodes)\n",
    "            if !old\n",
    "                child = oldnodes[(n,J,K,adh)]\n",
    "                add_scenario_transition!(sp, node, child, proba, T)\n",
    "            end\n",
    "        else\n",
    "            child = getSDDPNode(sp, oldnodes, newnodes, n, J, K, adh, node, solver, max_n, newcut, pruningalgo)\n",
    "            add_scenario_transition!(sp, node, child, proba, T)\n",
    "        end\n",
    "    end\n",
    "\n",
    "    if true\n",
    "        #childT = Vector{AbstractMatrix{S}}()\n",
    "        dn = max_n - n\n",
    "        N = Int(EntropicCone.ntodim(n))\n",
    "        for i in 1:n-1\n",
    "            for j in i+1:min(n, i+dn)\n",
    "                I = set(1:i)\n",
    "                J = set(1:j)\n",
    "                addchild(J,I,:Self)\n",
    "                σ = collect(1:n)\n",
    "                done = [(I,J)]\n",
    "                while next_perm(σ)\n",
    "                    Iperm = EntropicCone.mymap(σ, I, n)\n",
    "                    Jperm = EntropicCone.mymap(σ, J, n)\n",
    "                    if !((Iperm, Jperm) in done)\n",
    "                        σinv = collect(1:n)[σ]\n",
    "                        σi = map(I->EntropicCone.mymap(σinv, I, n), EntropicCone.indset(n))\n",
    "                        push!(done, (Iperm, Jperm))\n",
    "                        # Why transpose ?\n",
    "                        P = sparse(Vector{Int}(σi), 1:N, 1, N, N)'\n",
    "                        addchild(J,I,:Self,P)\n",
    "                    end\n",
    "                end\n",
    "            end\n",
    "        end\n",
    "    else\n",
    "        #childT = nothing\n",
    "        for adh in [:Self, :Inner]\n",
    "            for J in indset(n)\n",
    "                for K in indset(n)\n",
    "                    if J == K ||\n",
    "                        (adh == :Self && !(K ⊆ J)) ||\n",
    "                        #(adh == :Self && !(fullset(n) ⊆ J)) || # Don't do that, Z-Y is not found with max_n = 5 and no inner otherwise\n",
    "                        (adh == :Self && (fullset(n) ⊆ J)) || # Don't do that, Z-Y is not found with max_n = 5 and no inner otherwise\n",
    "                        (adh == :Inner && K ⊆ J) ||\n",
    "                        (adh == :Inner && J ⊆ K) ||\n",
    "                        (adh == :Inner && (K ∩ J) == 0) ||\n",
    "                        (adh == :Inner && !(fullset(n) ⊆ (K ∪ J))) ||\n",
    "                        (adh == :Self && n <= 3) ||\n",
    "                        (adh == :Inner && n <= 4) ||\n",
    "                        adh == :Inner\n",
    "                        continue\n",
    "                    end\n",
    "                    if nadh(n, J, K, adh) <= max_n\n",
    "                        addchild(J,K,adh)\n",
    "                    end\n",
    "                end\n",
    "            end\n",
    "        end\n",
    "    end\n",
    "end\n",
    "\n",
    "function StructDualDynProg.getSDDPNode(sp::StructDualDynProg.StochasticProgram{S}, oldnodes, newnodes, np, Jp, Kp, adhp, parent, solver, max_n, newcut, pruningalgo::Vector) where S\n",
    "    @assert !((np,Jp,Kp,adhp) in keys(oldnodes))\n",
    "    if !((np,Jp,Kp,adhp) in keys(newnodes))\n",
    "        n = EntropicCone.nadh(np, Jp, Kp, adhp)\n",
    "        #h = polymatroidcone(np)\n",
    "        # h is for the parent.\n",
    "        # We do not need the constraint of the parent so we want the full polyhedron with no constraint\n",
    "        Np = Int(EntropicCone.ntodim(np))\n",
    "        fullpoly = polyhedron(hrep(HalfSpace{Np, S, SparseVector{S, Int}}[]))\n",
    "        h = EntropyCone{Np, S}(np, fullpoly)\n",
    "        lift = EntropicCone.adhesivelift(h, Jp, Kp, adhp)\n",
    "        c = EntropicCone.constdualentropy(n, 0)\n",
    "        nlds = extractNLDS(c, lift, 2, 1, solver, newcut, pruningalgo[n])\n",
    "        newnodedata = StructDualDynProg.NodeData(nlds, parent)\n",
    "        newnode = add_scenario_state!(sp, newnodedata)\n",
    "        # Only the root node has a non-zero objective so no need for optimality cuts\n",
    "        StructDualDynProg.setcutgenerator!(sp, newnode, NoOptimalityCutGenerator())\n",
    "        newnodes[(np,Jp,Kp,adhp)] = newnode\n",
    "        addchildren!(sp, newnode, n, false, oldnodes, newnodes, solver, max_n, newcut, pruningalgo)\n",
    "    end\n",
    "    newnodes[(np,Jp,Kp,adhp)]\n",
    "end\n",
    "\n",
    "function fillroot!(sp::StructDualDynProg.StochasticProgram, c::DualEntropy, H::EntropyCone, cut::DualEntropy, newnodes, solver, max_n::Integer, newcut::Symbol, pruningalgo::Vector)\n",
    "    h = MixedMatHRep(hrep(H.poly ∩ HalfSpace(cut.h, 1)))\n",
    "    @assert h.A isa AbstractSparseMatrix\n",
    "    T = spzeros(Float64, size(h.A, 1), 0)\n",
    "    hb = sparsevec(h.b) # FIXME it was done before but not sure it is useful as it the the rhs\n",
    "    nlds = getNLDS(c, h.A, hb, T, h.linset, solver, newcut, AvgCutPruningAlgo(-1))\n",
    "    rootdata = StructDualDynProg.NodeData(nlds, 0)\n",
    "    root = add_scenario_state!(sp, rootdata)\n",
    "    StructDualDynProg.setcutgenerator!(sp, root, NoOptimalityCutGenerator())\n",
    "    newnodes[(H.n,EntropicCone.emptyset(),EntropicCone.emptyset(),:NoAdh)] = root\n",
    "    oldnodes = Dict{Tuple{Int,EntropicCone.EntropyIndex,EntropicCone.EntropyIndex,Symbol},Int}()\n",
    "    addchildren!(sp, root, H.n, false, oldnodes, newnodes, solver, max_n, newcut, pruningalgo)\n",
    "end\n",
    "\n",
    "function StructDualDynProg.stochasticprogram(c::DualEntropy, h::EntropyCone, solver, max_n, cut::DualEntropy, newcut::Symbol, pruningalgo::Vector)\n",
    "    # allnodes[n][J][K]: if K ⊆ J, it is self-adhesivity, otherwise it is inner-adhesivity\n",
    "    allnodes = Dict{Tuple{Int,EntropicCone.EntropyIndex,EntropicCone.EntropyIndex,Symbol},Int}()\n",
    "    sp = StructDualDynProg.StochasticProgram{Float64}()\n",
    "    @time fillroot!(sp, c, h, cut, allnodes, solver, max_n, newcut, pruningalgo)\n",
    "    sp, allnodes\n",
    "end\n",
    "function Base.append!(sp::StructDualDynProg.StochasticProgram, oldnodes, solver, max_n, newcut, pruningalgo::Vector)\n",
    "    newnodes = Dict{Tuple{Int,EntropicCone.EntropyIndex,EntropicCone.EntropyIndex,Symbol},Int}()\n",
    "    for ((n,J,K,adh), node) in oldnodes\n",
    "        addchildren!(sp, node, nadh(n,J,K,adh), true, oldnodes, newnodes, solver, max_n, newcut, pruningalgo)\n",
    "    end\n",
    "    merge!(oldnodes, newnodes)\n",
    "end\n",
    "function updatemaxncuts!(sp::StructDualDynProg.StochasticProgram, allnodes, maxncuts::Vector{Int})\n",
    "    for ((n,J,K,adh), node) in allnodes\n",
    "        StructDualDynProg.updatemaxncuts!(nodedata(sp, node).nlds, maxncuts[nadh(n,J,K,adh)])\n",
    "    end\n",
    "end"
   ]
  },
  {
   "cell_type": "code",
   "execution_count": null,
   "metadata": {},
   "outputs": [],
   "source": [
    "(root, allnodes) = stochasticprogram(c, h, solver, 7, cut, newcut, AvgCutPruningAlgo.([-1,-1,-1,-1,-1,-1,-1]))"
   ]
  },
  {
   "cell_type": "code",
   "execution_count": null,
   "metadata": {
    "collapsed": true
   },
   "outputs": [],
   "source": [
    "typeof(sparsevec([1], [2.0]))"
   ]
  },
  {
   "cell_type": "code",
   "execution_count": null,
   "metadata": {
    "collapsed": true
   },
   "outputs": [],
   "source": []
  }
 ],
 "metadata": {
  "kernelspec": {
   "display_name": "Julia 0.6.2",
   "language": "julia",
   "name": "julia-0.6"
  },
  "language_info": {
   "file_extension": ".jl",
   "mimetype": "application/julia",
   "name": "julia",
   "version": "0.6.2"
  }
 },
 "nbformat": 4,
 "nbformat_minor": 2
}
