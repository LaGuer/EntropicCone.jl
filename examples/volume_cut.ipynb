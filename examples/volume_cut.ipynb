{
 "cells": [
  {
   "cell_type": "markdown",
   "metadata": {},
   "source": [
    "Needs to clone EntropicCone.jl and QHull.jl and to checkout Polyhedra.jl"
   ]
  },
  {
   "cell_type": "code",
   "execution_count": 1,
   "metadata": {
    "collapsed": true
   },
   "outputs": [],
   "source": [
    "using EntropicCone, Polyhedra, QHull"
   ]
  },
  {
   "cell_type": "markdown",
   "metadata": {},
   "source": [
    "Creates an outer bound to the entropic cone of 3 variables using the Shannon inequalities"
   ]
  },
  {
   "cell_type": "code",
   "execution_count": 5,
   "metadata": {},
   "outputs": [
    {
     "data": {
      "text/plain": [
       "EntropicCone.EntropyCone{7,Float64}(3,QHull.QHullPolyhedron{7}(Nullable{Polyhedra.HRepresentation{7,Float64}}(H-representation\n",
       "begin\n",
       " 9 8 real\n",
       " 0.0 -0.0 -0.0 -1.0 -0.0 -0.0 -0.0 1.0\n",
       " 0.0 -0.0 -0.0 -0.0 -0.0 -1.0 -0.0 1.0\n",
       " 0.0 -0.0 -0.0 -0.0 -0.0 -0.0 -1.0 1.0\n",
       " 0.0 1.0 1.0 -1.0 -0.0 -0.0 -0.0 -0.0\n",
       " 0.0 1.0 -0.0 -0.0 1.0 -1.0 -0.0 -0.0\n",
       " 0.0 -0.0 1.0 -0.0 1.0 -0.0 -1.0 -0.0\n",
       " 0.0 -1.0 -0.0 1.0 -0.0 1.0 -0.0 -1.0\n",
       " 0.0 -0.0 -1.0 1.0 -0.0 -0.0 1.0 -1.0\n",
       " 0.0 -0.0 -0.0 -0.0 -1.0 1.0 1.0 -1.0\n",
       "end),Nullable{Polyhedra.SimpleHRepresentation{7,Float64}}(),Nullable{Polyhedra.VRepresentation{7,Float64}}(),Nullable{Polyhedra.SimpleVRepresentation{7,Float64}}(),false,false,false,false,Nullable{Float64}(),Nullable{Float64}()))"
      ]
     },
     "execution_count": 5,
     "metadata": {},
     "output_type": "execute_result"
    }
   ],
   "source": [
    "h = polymatroidcone(3, QHull.QHullLib());"
   ]
  },
  {
   "cell_type": "markdown",
   "metadata": {},
   "source": [
    "Fix the entropy of each random variable respectively to 1, 2 and 3 (i.e. $H(X_i) = i$ for $i = 1, \\ldots, 3$) and eliminate these dimensions."
   ]
  },
  {
   "cell_type": "code",
   "execution_count": 6,
   "metadata": {},
   "outputs": [
    {
     "data": {
      "text/plain": [
       "QHull.QHullPolyhedron{4}(Nullable{Polyhedra.HRepresentation{4,Float64}}(H-representation\n",
       "begin\n",
       " 9 5 real\n",
       " 0.0 -1.0 -0.0 -0.0 1.0\n",
       " 0.0 -0.0 -1.0 -0.0 1.0\n",
       " 0.0 -0.0 -0.0 -1.0 1.0\n",
       " 3.0 -1.0 -0.0 -0.0 -0.0\n",
       " 4.0 -0.0 -1.0 -0.0 -0.0\n",
       " 5.0 -0.0 -0.0 -1.0 -0.0\n",
       " -1.0 1.0 1.0 -0.0 -1.0\n",
       " -2.0 1.0 -0.0 1.0 -1.0\n",
       " -3.0 -0.0 1.0 1.0 -1.0\n",
       "end),Nullable{Polyhedra.SimpleHRepresentation{4,Float64}}(),Nullable{Polyhedra.VRepresentation{4,Float64}}(),Nullable{Polyhedra.SimpleVRepresentation{4,Float64}}(),false,false,false,false,Nullable{Float64}(),Nullable{Float64}())"
      ]
     },
     "execution_count": 6,
     "metadata": {},
     "output_type": "execute_result"
    }
   ],
   "source": [
    "p = Polyhedra.fixandeliminate(h.poly, [0b001, 0b010, 0b100], [1, 2, 3]);"
   ]
  },
  {
   "cell_type": "markdown",
   "metadata": {},
   "source": [
    "Volume computation can be done reliably by QHull but unfortunately, QHull needs the origin to be in the interior of the set. For this reason we need to translate it by minus an interior point."
   ]
  },
  {
   "cell_type": "code",
   "execution_count": 7,
   "metadata": {},
   "outputs": [
    {
     "data": {
      "text/plain": [
       "QHull.QHullPolyhedron{4}(Nullable{Polyhedra.HRepresentation{4,Float64}}(H-representation\n",
       "begin\n",
       " 9 5 real\n",
       " 1.5 -1.0 -0.0 -0.0 1.0\n",
       " 0.5 -0.0 -1.0 -0.0 1.0\n",
       " 0.25 -0.0 -0.0 -1.0 1.0\n",
       " 0.5 -1.0 -0.0 -0.0 -0.0\n",
       " 0.5 -0.0 -1.0 -0.0 -0.0\n",
       " 1.25 -0.0 -0.0 -1.0 -0.0\n",
       " 1.0 1.0 1.0 -0.0 -1.0\n",
       " 0.25 1.0 -0.0 1.0 -1.0\n",
       " 0.25 -0.0 1.0 1.0 -1.0\n",
       "end),Nullable{Polyhedra.SimpleHRepresentation{4,Float64}}(),Nullable{Polyhedra.VRepresentation{4,Float64}}(),Nullable{Polyhedra.SimpleVRepresentation{4,Float64}}(),false,false,false,false,Nullable{Float64}(),Nullable{Float64}())"
      ]
     },
     "execution_count": 7,
     "metadata": {},
     "output_type": "execute_result"
    }
   ],
   "source": [
    "q = Polyhedra.translate(p, -[2.5, 3.5, 3.75, 4]);"
   ]
  },
  {
   "cell_type": "code",
   "execution_count": 8,
   "metadata": {},
   "outputs": [
    {
     "data": {
      "text/plain": [
       "24.53333333333333"
      ]
     },
     "execution_count": 8,
     "metadata": {},
     "output_type": "execute_result"
    }
   ],
   "source": [
    "QHull.volume(q)"
   ]
  },
  {
   "cell_type": "code",
   "execution_count": null,
   "metadata": {
    "collapsed": true
   },
   "outputs": [],
   "source": []
  }
 ],
 "metadata": {
  "kernelspec": {
   "display_name": "Julia 0.5.2",
   "language": "julia",
   "name": "julia-0.5"
  },
  "language_info": {
   "file_extension": ".jl",
   "mimetype": "application/julia",
   "name": "julia",
   "version": "0.5.2"
  }
 },
 "nbformat": 4,
 "nbformat_minor": 2
}
